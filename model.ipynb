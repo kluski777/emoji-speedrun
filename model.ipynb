{
 "cells": [
  {
   "cell_type": "code",
   "execution_count": 42,
   "id": "834645a2",
   "metadata": {},
   "outputs": [],
   "source": [
    "import os\n",
    "import kagglehub\n",
    "import torch\n",
    "import torch.nn as nn\n",
    "import numpy as np\n",
    "import pandas as pd\n",
    "from PIL import Image\n",
    "\n",
    "\"\"\"\n",
    "    Image loading and preprocessing\n",
    "\"\"\"\n",
    "\n",
    "image_size = 72\n",
    "\n",
    "dataset_path = kagglehub.dataset_download(\"subinium/emojiimage-dataset\")\n",
    "description = pd.read_csv(dataset_path + '/full_emoji.csv')\n",
    "names = description['name'] # to sie przyda jako label zwracany, potem do Flaska\n",
    "\n",
    "image_data = []\n",
    "labels = []\n",
    "\n",
    "dataset_path += '/image'\n",
    "for dir in os.listdir(dataset_path):\n",
    "    temp_path = dataset_path + f'/{dir}'\n",
    "    for image_name in os.listdir(temp_path):\n",
    "        image = Image.open(temp_path + f'/{image_name}')\\\n",
    "            .convert('RGBA')\n",
    "        \n",
    "        to_append = np.array(image).T / 255.\n",
    "        if to_append.shape == (4, 72, 72): # majority of the data\n",
    "            image_data.append(\n",
    "                to_append\n",
    "            )\n",
    "            labels.append(\n",
    "                image_name.split('.')[0]\n",
    "            )"
   ]
  },
  {
   "cell_type": "code",
   "execution_count": 62,
   "id": "94cb8e3c",
   "metadata": {},
   "outputs": [],
   "source": [
    "from sklearn.model_selection import train_test_split\n",
    "\n",
    "BATCH_SIZE = 256\n",
    "labels_encoded = pd.get_dummies( np.array(labels, dtype=int) ).to_numpy()\n",
    "image_data = np.array(image_data)\n",
    "\n",
    "image_train, image_test, label_train, label_test = train_test_split(image_data, labels_encoded, test_size=0.15)\n",
    "\n",
    "image_dataset = torch.utils.data.DataLoader(\n",
    "    torch.utils.data.TensorDataset(\n",
    "        torch.Tensor(image_train),\n",
    "        torch.Tensor(label_train)\n",
    "    ),\n",
    "    batch_size=BATCH_SIZE,\n",
    "    shuffle=True\n",
    ")\n",
    "\n",
    "image_test = torch.Tensor(image_test).float().cuda()\n",
    "label_test  = torch.Tensor(label_test).int().cuda()"
   ]
  },
  {
   "cell_type": "code",
   "execution_count": 64,
   "id": "f5670e12",
   "metadata": {},
   "outputs": [
    {
     "name": "stdout",
     "output_type": "stream",
     "text": [
      "100.00%"
     ]
    },
    {
     "data": {
      "text/plain": [
       "CNN(\n",
       "  (layers): Sequential(\n",
       "    (0): Conv2d(4, 4, kernel_size=(3, 3), stride=(2, 2))\n",
       "    (1): ReLU()\n",
       "    (2): Conv2d(4, 3, kernel_size=(4, 4), stride=(1, 1))\n",
       "    (3): ReLU()\n",
       "    (4): Flatten(start_dim=1, end_dim=-1)\n",
       "    (5): Linear(in_features=3072, out_features=512, bias=True)\n",
       "    (6): ReLU()\n",
       "    (7): Linear(in_features=512, out_features=128, bias=True)\n",
       "    (8): ReLU()\n",
       "    (9): Linear(in_features=128, out_features=32, bias=True)\n",
       "    (10): ReLU()\n",
       "    (11): Linear(in_features=32, out_features=8, bias=True)\n",
       "    (12): ReLU()\n",
       "    (13): Linear(in_features=8, out_features=1816, bias=True)\n",
       "    (14): Sigmoid()\n",
       "  )\n",
       "  (loss): CrossEntropyLoss()\n",
       ")"
      ]
     },
     "execution_count": 64,
     "metadata": {},
     "output_type": "execute_result"
    }
   ],
   "source": [
    "class CNN(nn.Module):\n",
    "    def __init__(self, layers, lr):\n",
    "        super().__init__()\n",
    "        self.layers = nn.Sequential(*layers)\n",
    "        self.optim = torch.optim.RMSprop(self.parameters(), lr)\n",
    "        self.loss = nn.CrossEntropyLoss()\n",
    "        self.to('cuda')\n",
    "\n",
    "    def forward(self, input):\n",
    "        return self.layers(input)\n",
    "    \n",
    "layers = [\n",
    "    nn.LazyConv2d(4, kernel_size=3, stride=2), nn.ReLU(),\n",
    "    nn.LazyConv2d(3, kernel_size=4), nn.ReLU(),\n",
    "    nn.Flatten(),\n",
    "    nn.LazyLinear(512), nn.ReLU(),\n",
    "    nn.LazyLinear(128), nn.ReLU(),\n",
    "\n",
    "    nn.LazyLinear(32), nn.ReLU(),\n",
    "    nn.LazyLinear(8), nn.ReLU(),\n",
    "    nn.LazyLinear(labels_encoded.shape[1]), nn.Sigmoid(),\n",
    "]\n",
    "\n",
    "model = CNN(layers, 1e-3)\n",
    "\n",
    "EPOCHS = 100\n",
    "loss_history = np.zeros(EPOCHS)\n",
    "\n",
    "model.train()\n",
    "\n",
    "for epoch in range(EPOCHS):\n",
    "    for training_batch, label_batch in image_dataset:\n",
    "        training_batch = training_batch.cuda()\n",
    "        label_batch = label_batch.cuda()\n",
    "\n",
    "        model.optim.zero_grad()\n",
    "        output = model(training_batch).reshape( *label_batch.shape )\n",
    "        loss = model.loss(output, label_batch)\n",
    "        loss.backward()\n",
    "        model.optim.step()\n",
    "    print(f'\\r{epoch / (EPOCHS - 1)*100 :.2f}%', end='', flush=True)\n",
    "\n",
    "    loss_history[epoch] = loss.item()\n",
    "\n",
    "model.eval()"
   ]
  },
  {
   "cell_type": "code",
   "execution_count": 65,
   "id": "cacce479",
   "metadata": {},
   "outputs": [
    {
     "data": {
      "text/plain": [
       "[<matplotlib.lines.Line2D at 0x755eaa19b4d0>]"
      ]
     },
     "execution_count": 65,
     "metadata": {},
     "output_type": "execute_result"
    },
    {
     "data": {
      "image/png": "[encoded data removed]",
      "text/plain": [
       "<Figure size 640x480 with 1 Axes>"
      ]
     },
     "metadata": {},
     "output_type": "display_data"
    }
   ],
   "source": [
    "import matplotlib.pyplot as plt\n",
    "\n",
    "plt.plot(loss_history, 'o', markersize=3)"
   ]
  },
  {
   "cell_type": "code",
   "execution_count": 61,
   "id": "1d4cf88d",
   "metadata": {},
   "outputs": [
    {
     "data": {
      "text/plain": [
       "0.0008200082000820008"
      ]
     },
     "execution_count": 61,
     "metadata": {},
     "output_type": "execute_result"
    }
   ],
   "source": [
    "from sklearn.metrics import confusion_matrix, ConfusionMatrixDisplay, accuracy_score\n",
    "\n",
    "label_pred = model(image_test).detach().cpu()\n",
    "accuracy_score( label_test.cpu().argmax(dim=-1, keepdim=True), label_pred.cpu().argmax(dim=-1, keepdim=True))\n",
    "# confusion = confusion_matrix(label_test, output_test)\n",
    "\n",
    "# ConfusionMatrixDisplay(confusion).plot()"
   ]
  }
 ],
 "metadata": {
  "kernelspec": {
   "display_name": "myenv",
   "language": "python",
   "name": "python3"
  },
  "language_info": {
   "codemirror_mode": {
    "name": "ipython",
    "version": 3
   },
   "file_extension": ".py",
   "mimetype": "text/x-python",
   "name": "python",
   "nbconvert_exporter": "python",
   "pygments_lexer": "ipython3",
   "version": "3.12.3"
  }
 },
 "nbformat": 4,
 "nbformat_minor": 5
}
