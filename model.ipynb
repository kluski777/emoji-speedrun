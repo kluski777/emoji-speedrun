{
 "cells": [
  {
   "cell_type": "code",
   "execution_count": 14,
   "id": "834645a2",
   "metadata": {},
   "outputs": [
    {
     "data": {
      "text/plain": [
       "['heart_eyes_emoji_emoticon_png',\n",
       " 'shock_emoji_sticker_png',\n",
       " 'yellow_smiley_emoji_glasses_png',\n",
       " 'think_emoji_computer_icons_png',\n",
       " 'emoji_illustration_emoticon_png',\n",
       " 'emoji_smiley_happiness_iphone_emoticon_computer_icons_png',\n",
       " 'emoji_tongue_out_illustration_circle_png',\n",
       " 'emoticon_illustration_smiley_png',\n",
       " 'angry_emoji_illustration_smiley_png',\n",
       " 'iphone_emoji_apple_ios_11_apple_color_emoji_png',\n",
       " 'emoji_blushing_smiley_emoticon_png',\n",
       " 'iphone_emoji_sadness_smiley_emoticon_png',\n",
       " 'emoji_love_heart_sticker_emoticon_smiley_png',\n",
       " 'emoji_shocked_emoticon_png',\n",
       " 'emoji_computer_wallpaper_png',\n",
       " 'emoji_illustration_smiley_png',\n",
       " 'surprised_emoji_smiley_png',\n",
       " 'yellow_emoji_computer_wallpaper_png',\n",
       " 'crying_emoji_illustration_emoticon_png',\n",
       " 'purple_devil_emoji_face_png',\n",
       " 'laughing_with_tears_emoji_symbol_png',\n",
       " 'in_love_emoji_art_emoji_png',\n",
       " 'smiley_emoticon_text_messaging_png',\n",
       " 'emoji_face_illustration_emoticon_png',\n",
       " 'yellow_emoji_orange_png',\n",
       " 'laughing_emoji__png',\n",
       " 'red_heart_broken_heart_png',\n",
       " 'pink_heart_emoji_sticker_png',\n",
       " 'apple_color_emoji_fire_emoji_domain_emojipedia_sticker_png',\n",
       " 'emoji_sticker_smiley_emoticon_sparkle_png',\n",
       " 'thumb_index_finger_emoji_material_png',\n",
       " 'cool_emoji_whatsapp_png',\n",
       " 'drooling_emoticon_sticker_png',\n",
       " 'emoji_desktop_wallpaper_png',\n",
       " 'emoji_material_png',\n",
       " 'angry_emoji_illustration_computer_wallpaper_png',\n",
       " 'emoji_handshake_iphone_respect_greeting_png',\n",
       " 'surprise_emoji_apple_watch_png',\n",
       " 'twelve_emojis_illustrations_smile_png',\n",
       " 'face_with_tears_of_joy_emoji_laughter_emoticon_png',\n",
       " 'laughing_out_loud_emoji_emoticon_png',\n",
       " 'emoji_anger_smiley_emoticon_annoyance_png',\n",
       " 'emoji_sadness_emoticon_smiley_desktop_wallpaper_png',\n",
       " 'emoji_vomiting_illustration_woman_png',\n",
       " 'smile_emoji_heart_png',\n",
       " 'emoji_emoticon_smiley_sticker_thumb_signal_png',\n",
       " 'smile_emoji_symbol_png',\n",
       " 'emoji_hug_emoticon_sticker_png',\n",
       " 'angry_emoji_sticker_png',\n",
       " 'emoji_domain_smiley_glasses_glasses_png',\n",
       " 'sad_emoticon_emoji_face_png',\n",
       " 'sleepy_emoji_illustration_sleep_png',\n",
       " 'yellow_emoji_with_kiss_heart_smiley_png',\n",
       " 'emoji_apple_color_emoji_png',\n",
       " 'whip_emoticon_symbol_png',\n",
       " 'emoji_with_dollar_sign_eyes_and_tongue_illustration_heart_png',\n",
       " 'emoji_anger_smiley_emoticon_icon_computer_wallpaper_png',\n",
       " 'vomit_emoji_fruit_png',\n",
       " 'smiley_emoji_sticker_png',\n",
       " 'wow_emoji_circle_png',\n",
       " '']"
      ]
     },
     "execution_count": 14,
     "metadata": {},
     "output_type": "execute_result"
    }
   ],
   "source": [
    "import torch\n",
    "import torch.nn as nn\n",
    "import numpy as np\n",
    "from PIL import Image\n",
    "\n",
    "titles = open('./data/links.txt', encoding='utf-8').read()\n",
    "titles = [text.split(',')[-1].lower()[1:].replace(' ', '_') for text in titles.split('\\n')]\n",
    "\n",
    "titles"
   ]
  }
 ],
 "metadata": {
  "kernelspec": {
   "display_name": "myenv",
   "language": "python",
   "name": "python3"
  },
  "language_info": {
   "codemirror_mode": {
    "name": "ipython",
    "version": 3
   },
   "file_extension": ".py",
   "mimetype": "text/x-python",
   "name": "python",
   "nbconvert_exporter": "python",
   "pygments_lexer": "ipython3",
   "version": "3.12.3"
  }
 },
 "nbformat": 4,
 "nbformat_minor": 5
}
